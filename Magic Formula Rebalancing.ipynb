{
 "cells": [
  {
   "cell_type": "markdown",
   "metadata": {},
   "source": [
    "<h1><center>Magic Score Rebalancing</center></h1>"
   ]
  },
  {
   "cell_type": "markdown",
   "metadata": {},
   "source": [
    "## 1. Data Extraction"
   ]
  },
  {
   "cell_type": "markdown",
   "metadata": {},
   "source": [
    "I have used requests and BeautifulSoup library to carry out web scraping."
   ]
  },
  {
   "cell_type": "code",
   "execution_count": 522,
   "metadata": {},
   "outputs": [],
   "source": [
    "import requests\n",
    "from bs4 import BeautifulSoup\n",
    "import pandas as pd\n",
    "import numpy as np\n",
    "from pandas_datareader import data as pdr\n",
    "import matplotlib.pyplot as plt"
   ]
  },
  {
   "cell_type": "markdown",
   "metadata": {},
   "source": [
    "I have used Dow Jones index components as the universe of stocks. This is not the right approach, becuse they do contain a few finance companied which are to be excluded in the universe of stocks."
   ]
  },
  {
   "cell_type": "code",
   "execution_count": 249,
   "metadata": {},
   "outputs": [],
   "source": [
    "tickers=[]\n",
    "for p in range(1,3):\n",
    "    url = 'https://money.cnn.com/data/markets/dow/?page='+str(p)\n",
    "    page = requests.get(url)\n",
    "    page_content = page.content\n",
    "    soup = BeautifulSoup(page_content,'html.parser') \n",
    "    tabl = soup.find_all(\"table\", {\"class\" : 'wsod_dataTable wsod_dataTableBig'})\n",
    "    for t in tabl:\n",
    "        rows = t.find_all(\"a\", {\"class\" : 'wsod_symbol'})\n",
    "        for row in rows:\n",
    "            name=(row.get_text()).split()\n",
    "            tickers.append(name[0])"
   ]
  },
  {
   "cell_type": "markdown",
   "metadata": {},
   "source": [
    "I have extracted data from Yahoo Finance using web scraping."
   ]
  },
  {
   "cell_type": "code",
   "execution_count": 250,
   "metadata": {},
   "outputs": [],
   "source": [
    "financial_dir_curr = {} \n",
    "financial_dir_py = {} \n",
    "financial_dir_py2 = {} \n",
    "financial_dir_py3 = {} "
   ]
  },
  {
   "cell_type": "code",
   "execution_count": 375,
   "metadata": {},
   "outputs": [
    {
     "name": "stdout",
     "output_type": "stream",
     "text": [
      "scraping financial statement data for  AXP\n",
      "scraping financial statement data for  AAPL\n",
      "scraping financial statement data for  BA\n",
      "scraping financial statement data for  CAT\n",
      "scraping financial statement data for  CVX\n",
      "scraping financial statement data for  CSCO\n",
      "scraping financial statement data for  KO\n",
      "scraping financial statement data for  DIS\n",
      "scraping financial statement data for  XOM\n",
      "scraping financial statement data for  GS\n",
      "scraping financial statement data for  HD\n",
      "scraping financial statement data for  IBM\n",
      "scraping financial statement data for  INTC\n",
      "Problem scraping data for  INTC\n",
      "scraping financial statement data for  JNJ\n",
      "scraping financial statement data for  JPM\n",
      "scraping financial statement data for  MCD\n",
      "scraping financial statement data for  MRK\n",
      "scraping financial statement data for  NKE\n",
      "scraping financial statement data for  PFE\n",
      "scraping financial statement data for  RTX\n",
      "scraping financial statement data for  TRV\n",
      "scraping financial statement data for  UNH\n",
      "scraping financial statement data for  VZ\n",
      "scraping financial statement data for  V\n",
      "scraping financial statement data for  WMT\n",
      "scraping financial statement data for  WBA\n"
     ]
    }
   ],
   "source": [
    "for ticker in tickers:\n",
    "    try:\n",
    "        print(\"scraping financial statement data for \",ticker)\n",
    "        temp_dir = {}\n",
    "        temp_dir2 = {}\n",
    "        temp_dir3 = {}\n",
    "        temp_dir4 = {}\n",
    "    #getting balance sheet data from yahoo finance \n",
    "        url = 'https://in.finance.yahoo.com/quote/'+ticker+'/balance-sheet?p='+ticker\n",
    "#         print(url)\n",
    "        page = requests.get(url)\n",
    "        page_content = page.content\n",
    "        soup = BeautifulSoup(page_content,'html.parser')\n",
    "        tabl = soup.find_all(\"div\", {\"class\" : \"M(0) Whs(n) BdEnd Bdc($seperatorColor) D(itb)\"})\n",
    "        for t in tabl:\n",
    "            rows = t.find_all(\"div\", {\"class\" : \"rw-expnded\"})\n",
    "            for row in rows:\n",
    "                temp_dir[row.get_text(separator='|').split(\"|\")[0]]=row.get_text(separator='|').split(\"|\")[1]\n",
    "                temp_dir2[row.get_text(separator='|').split(\"|\")[0]]=row.get_text(separator='|').split(\"|\")[2]\n",
    "                temp_dir3[row.get_text(separator='|').split(\"|\")[0]]=row.get_text(separator='|').split(\"|\")[3]\n",
    "                temp_dir4[row.get_text(separator='|').split(\"|\")[0]]=row.get_text(separator='|').split(\"|\")[4]\n",
    "        \n",
    "        #getting income statement data from yahoo finance \n",
    "        url = 'https://in.finance.yahoo.com/quote/'+ticker+'/financials?p='+ticker\n",
    "#         print(url)\n",
    "        page = requests.get(url)\n",
    "        page_content = page.content\n",
    "        soup = BeautifulSoup(page_content,'html.parser')\n",
    "        tabl = soup.find_all(\"div\", {\"class\" : \"M(0) Whs(n) BdEnd Bdc($seperatorColor) D(itb)\"})\n",
    "        for t in tabl:\n",
    "            rows = t.find_all(\"div\", {\"class\" : \"rw-expnded\"})\n",
    "            for row in rows:\n",
    "                temp_dir[row.get_text(separator='|').split(\"|\")[0]]=row.get_text(separator='|').split(\"|\")[1]\n",
    "                temp_dir2[row.get_text(separator='|').split(\"|\")[0]]=row.get_text(separator='|').split(\"|\")[2]\n",
    "                temp_dir3[row.get_text(separator='|').split(\"|\")[0]]=row.get_text(separator='|').split(\"|\")[3]\n",
    "                temp_dir4[row.get_text(separator='|').split(\"|\")[0]]=row.get_text(separator='|').split(\"|\")[4]\n",
    "\n",
    "        \n",
    "        #getting cashflow statement data from yahoo finance \n",
    "        url = 'https://in.finance.yahoo.com/quote/'+ticker+'/cash-flow?p='+ticker\n",
    "        page = requests.get(url)\n",
    "#         print(url)\n",
    "        page_content = page.content\n",
    "        soup = BeautifulSoup(page_content,'html.parser')\n",
    "        tabl = soup.find_all(\"div\", {\"class\" : \"M(0) Whs(n) BdEnd Bdc($seperatorColor) D(itb)\"})\n",
    "        for t in tabl:\n",
    "            rows = t.find_all(\"div\", {\"class\" : \"rw-expnded\"})\n",
    "            for row in rows:\n",
    "                temp_dir[row.get_text(separator='|').split(\"|\")[0]]=row.get_text(separator='|').split(\"|\")[1]\n",
    "                temp_dir2[row.get_text(separator='|').split(\"|\")[0]]=row.get_text(separator='|').split(\"|\")[2]\n",
    "                temp_dir3[row.get_text(separator='|').split(\"|\")[0]]=row.get_text(separator='|').split(\"|\")[3] \n",
    "                temp_dir4[row.get_text(separator='|').split(\"|\")[0]]=row.get_text(separator='|').split(\"|\")[4] \n",
    "                \n",
    "            \n",
    "        temp_dir['Price']= pdr.get_data_yahoo(ticker,start=\"2019-12-30\", end=\"2019-12-30\", interval='d')['Close'][0]\n",
    "        temp_dir2['Price']= pdr.get_data_yahoo(ticker,start=\"2018-12-31\", end=\"2018-12-31\", interval='d')['Close'][0]\n",
    "        temp_dir3['Price']= pdr.get_data_yahoo(ticker,start=\"2017-12-29\", end=\"2017-12-29\", interval='d')['Close'][1]\n",
    "        temp_dir4['Price']= pdr.get_data_yahoo(ticker,start=\"2016-12-29\", end=\"2016-12-29\", interval='d')['Close'][1]\n",
    "        \n",
    "        financial_dir_curr[ticker] = temp_dir\n",
    "        financial_dir_py[ticker] = temp_dir2\n",
    "        financial_dir_py2[ticker] = temp_dir3\n",
    "        financial_dir_py3[ticker] = temp_dir4\n",
    "    except:\n",
    "        print(\"Problem scraping data for \",ticker)"
   ]
  },
  {
   "cell_type": "markdown",
   "metadata": {},
   "source": [
    "I had saved the data in directory. Below, I have saved the directory into Pandas Dataframe. <br>\n",
    "There is also a possibility that data of few tickers might not have been imported and hence I am updating the tickers list."
   ]
  },
  {
   "cell_type": "code",
   "execution_count": 415,
   "metadata": {},
   "outputs": [],
   "source": [
    "combined_financials_2019 = pd.DataFrame(financial_dir_curr)\n",
    "combined_financials_2018 = pd.DataFrame(financial_dir_py)\n",
    "combined_financials_2017 = pd.DataFrame(financial_dir_py2)\n",
    "combined_financials_2016 = pd.DataFrame(financial_dir_py3)\n",
    "tickers = combined_financials_2019.columns \n",
    "index = combined_financials_2019.index"
   ]
  },
  {
   "cell_type": "markdown",
   "metadata": {},
   "source": [
    "## 2. Data Cleaning and Calculation"
   ]
  },
  {
   "cell_type": "markdown",
   "metadata": {},
   "source": [
    "I had extracted a lot of data, but we only need a few specific details and hence I have compiled them in a dataframe below."
   ]
  },
  {
   "cell_type": "code",
   "execution_count": 416,
   "metadata": {},
   "outputs": [],
   "source": [
    "stats = [\"Operating income or loss\",\n",
    "         \"Net income available to common shareholders\",\n",
    "         \"Net cash provided by operating activities\",\n",
    "         \"Capital expenditure\",\n",
    "         \"Total current assets\",\n",
    "         \"Total current liabilities\",\n",
    "         \"Net property, plant and equipment\",\n",
    "         \"Total stockholders' equity\",\n",
    "         \"Long-term debt\",\n",
    "         \"Basic average shares\",\n",
    "        \"Price\"] \n",
    "\n",
    "indx = [\"EBIT\",\"NetIncome\",\"CashFlowOps\",\"Capex\",\"CurrAsset\",\n",
    "        \"CurrLiab\",\"PPE\",\"BookValue\",\"TotDebt\", \"ShareOut\",\"Price\"]"
   ]
  },
  {
   "cell_type": "code",
   "execution_count": 417,
   "metadata": {},
   "outputs": [],
   "source": [
    "for i in stats:\n",
    "    if i not in index:\n",
    "        print( i + \": Error, check row name\")"
   ]
  },
  {
   "cell_type": "code",
   "execution_count": 418,
   "metadata": {},
   "outputs": [],
   "source": [
    "all_stats = {}\n",
    "for ticker in tickers:\n",
    "    try:\n",
    "#         print(ticker)\n",
    "        temp = combined_financials_2019[ticker]\n",
    "#         print(temp)\n",
    "        ticker_stats = []\n",
    "        for stat in stats:\n",
    "#             print(temp.loc[stat])\n",
    "            ticker_stats.append(temp.loc[stat])\n",
    "        all_stats['{}'.format(ticker)] = ticker_stats\n",
    "    except:\n",
    "        print(\"can't read data for \",ticker)\n",
    "all_stats_2019 = pd.DataFrame(all_stats,index=indx)"
   ]
  },
  {
   "cell_type": "code",
   "execution_count": 419,
   "metadata": {},
   "outputs": [],
   "source": [
    "all_stats = {}\n",
    "for ticker in tickers:\n",
    "    try:\n",
    "#         print(ticker)\n",
    "        temp = combined_financials_2018[ticker]\n",
    "#         print(temp)\n",
    "        ticker_stats = []\n",
    "        for stat in stats:\n",
    "#             print(temp.loc[stat])\n",
    "            ticker_stats.append(temp.loc[stat])\n",
    "        all_stats['{}'.format(ticker)] = ticker_stats\n",
    "    except:\n",
    "        print(\"can't read data for \",ticker)\n",
    "all_stats_2018 = pd.DataFrame(all_stats,index=indx)"
   ]
  },
  {
   "cell_type": "code",
   "execution_count": 420,
   "metadata": {},
   "outputs": [],
   "source": [
    "all_stats = {}\n",
    "for ticker in tickers:\n",
    "    try:\n",
    "#         print(ticker)\n",
    "        temp = combined_financials_2017[ticker]\n",
    "#         print(temp)\n",
    "        ticker_stats = []\n",
    "        for stat in stats:\n",
    "#             print(temp.loc[stat])\n",
    "            ticker_stats.append(temp.loc[stat])\n",
    "        all_stats['{}'.format(ticker)] = ticker_stats\n",
    "    except:\n",
    "        print(\"can't read data for \",ticker)\n",
    "all_stats_2017 = pd.DataFrame(all_stats,index=indx)"
   ]
  },
  {
   "cell_type": "code",
   "execution_count": 421,
   "metadata": {},
   "outputs": [],
   "source": [
    "all_stats = {}\n",
    "for ticker in tickers:\n",
    "    try:\n",
    "#         print(ticker)\n",
    "        temp = combined_financials_2016[ticker]\n",
    "#         print(temp)\n",
    "        ticker_stats = []\n",
    "        for stat in stats:\n",
    "#             print(temp.loc[stat])\n",
    "            ticker_stats.append(temp.loc[stat])\n",
    "        all_stats['{}'.format(ticker)] = ticker_stats\n",
    "    except:\n",
    "        print(\"can't read data for \",ticker)\n",
    "all_stats_2016 = pd.DataFrame(all_stats,index=indx)"
   ]
  },
  {
   "cell_type": "code",
   "execution_count": 422,
   "metadata": {},
   "outputs": [
    {
     "data": {
      "text/html": [
       "<div>\n",
       "<style scoped>\n",
       "    .dataframe tbody tr th:only-of-type {\n",
       "        vertical-align: middle;\n",
       "    }\n",
       "\n",
       "    .dataframe tbody tr th {\n",
       "        vertical-align: top;\n",
       "    }\n",
       "\n",
       "    .dataframe thead th {\n",
       "        text-align: right;\n",
       "    }\n",
       "</style>\n",
       "<table border=\"1\" class=\"dataframe\">\n",
       "  <thead>\n",
       "    <tr style=\"text-align: right;\">\n",
       "      <th></th>\n",
       "      <th>AXP</th>\n",
       "      <th>AAPL</th>\n",
       "      <th>BA</th>\n",
       "      <th>CAT</th>\n",
       "      <th>CVX</th>\n",
       "      <th>CSCO</th>\n",
       "      <th>KO</th>\n",
       "      <th>DIS</th>\n",
       "      <th>XOM</th>\n",
       "      <th>GS</th>\n",
       "      <th>...</th>\n",
       "      <th>MRK</th>\n",
       "      <th>NKE</th>\n",
       "      <th>PFE</th>\n",
       "      <th>RTX</th>\n",
       "      <th>TRV</th>\n",
       "      <th>UNH</th>\n",
       "      <th>VZ</th>\n",
       "      <th>V</th>\n",
       "      <th>WMT</th>\n",
       "      <th>WBA</th>\n",
       "    </tr>\n",
       "  </thead>\n",
       "  <tbody>\n",
       "    <tr>\n",
       "      <th>EBIT</th>\n",
       "      <td>NaN</td>\n",
       "      <td>6.134400e+07</td>\n",
       "      <td>1.005300e+07</td>\n",
       "      <td>4.406000e+06</td>\n",
       "      <td>2.480000e+06</td>\n",
       "      <td>1.272900e+07</td>\n",
       "      <td>9.427000e+06</td>\n",
       "      <td>1.387300e+07</td>\n",
       "      <td>1.207400e+07</td>\n",
       "      <td>NaN</td>\n",
       "      <td>...</td>\n",
       "      <td>7.309000e+06</td>\n",
       "      <td>4.445000e+06</td>\n",
       "      <td>1.410700e+07</td>\n",
       "      <td>8.672000e+06</td>\n",
       "      <td>NaN</td>\n",
       "      <td>1.418600e+07</td>\n",
       "      <td>2.918800e+07</td>\n",
       "      <td>1.216300e+07</td>\n",
       "      <td>2.043700e+07</td>\n",
       "      <td>5.422000e+06</td>\n",
       "    </tr>\n",
       "    <tr>\n",
       "      <th>NetIncome</th>\n",
       "      <td>2.634000e+06</td>\n",
       "      <td>4.835100e+07</td>\n",
       "      <td>8.191000e+06</td>\n",
       "      <td>7.540000e+05</td>\n",
       "      <td>9.195000e+06</td>\n",
       "      <td>9.609000e+06</td>\n",
       "      <td>1.248000e+06</td>\n",
       "      <td>8.980000e+06</td>\n",
       "      <td>1.971000e+07</td>\n",
       "      <td>3.685000e+06</td>\n",
       "      <td>...</td>\n",
       "      <td>2.394000e+06</td>\n",
       "      <td>1.933000e+06</td>\n",
       "      <td>2.130700e+07</td>\n",
       "      <td>4.552000e+06</td>\n",
       "      <td>2.041000e+06</td>\n",
       "      <td>1.055800e+07</td>\n",
       "      <td>3.010100e+07</td>\n",
       "      <td>6.467000e+06</td>\n",
       "      <td>9.862000e+06</td>\n",
       "      <td>4.078000e+06</td>\n",
       "    </tr>\n",
       "    <tr>\n",
       "      <th>CashFlowOps</th>\n",
       "      <td>1.354000e+07</td>\n",
       "      <td>6.359800e+07</td>\n",
       "      <td>1.334400e+07</td>\n",
       "      <td>5.702000e+06</td>\n",
       "      <td>2.051500e+07</td>\n",
       "      <td>1.387600e+07</td>\n",
       "      <td>7.106000e+06</td>\n",
       "      <td>1.234300e+07</td>\n",
       "      <td>3.006600e+07</td>\n",
       "      <td>-1.774200e+07</td>\n",
       "      <td>...</td>\n",
       "      <td>6.447000e+06</td>\n",
       "      <td>4.955000e+06</td>\n",
       "      <td>1.647000e+07</td>\n",
       "      <td>5.631000e+06</td>\n",
       "      <td>3.762000e+06</td>\n",
       "      <td>1.359600e+07</td>\n",
       "      <td>2.530500e+07</td>\n",
       "      <td>9.208000e+06</td>\n",
       "      <td>2.833700e+07</td>\n",
       "      <td>7.251000e+06</td>\n",
       "    </tr>\n",
       "    <tr>\n",
       "      <th>Capex</th>\n",
       "      <td>-1.062000e+06</td>\n",
       "      <td>-1.279500e+07</td>\n",
       "      <td>-1.870000e+06</td>\n",
       "      <td>-2.336000e+06</td>\n",
       "      <td>-1.340400e+07</td>\n",
       "      <td>-9.640000e+05</td>\n",
       "      <td>-1.675000e+06</td>\n",
       "      <td>-3.623000e+06</td>\n",
       "      <td>-1.540200e+07</td>\n",
       "      <td>-3.185000e+06</td>\n",
       "      <td>...</td>\n",
       "      <td>-1.888000e+06</td>\n",
       "      <td>-1.028000e+06</td>\n",
       "      <td>-2.217000e+06</td>\n",
       "      <td>-2.394000e+06</td>\n",
       "      <td>NaN</td>\n",
       "      <td>-2.023000e+06</td>\n",
       "      <td>-1.783000e+07</td>\n",
       "      <td>-7.070000e+05</td>\n",
       "      <td>-1.005100e+07</td>\n",
       "      <td>-1.351000e+06</td>\n",
       "    </tr>\n",
       "    <tr>\n",
       "      <th>CurrAsset</th>\n",
       "      <td>NaN</td>\n",
       "      <td>1.068690e+08</td>\n",
       "      <td>6.248800e+07</td>\n",
       "      <td>3.196700e+07</td>\n",
       "      <td>2.961900e+07</td>\n",
       "      <td>7.871900e+07</td>\n",
       "      <td>3.401000e+07</td>\n",
       "      <td>1.696600e+07</td>\n",
       "      <td>4.141600e+07</td>\n",
       "      <td>NaN</td>\n",
       "      <td>...</td>\n",
       "      <td>3.061400e+07</td>\n",
       "      <td>1.606100e+07</td>\n",
       "      <td>3.894900e+07</td>\n",
       "      <td>2.855000e+07</td>\n",
       "      <td>NaN</td>\n",
       "      <td>3.387900e+07</td>\n",
       "      <td>2.639500e+07</td>\n",
       "      <td>1.431300e+07</td>\n",
       "      <td>5.768900e+07</td>\n",
       "      <td>2.588300e+07</td>\n",
       "    </tr>\n",
       "    <tr>\n",
       "      <th>CurrLiab</th>\n",
       "      <td>NaN</td>\n",
       "      <td>7.900600e+07</td>\n",
       "      <td>5.013400e+07</td>\n",
       "      <td>2.613200e+07</td>\n",
       "      <td>3.178500e+07</td>\n",
       "      <td>2.491100e+07</td>\n",
       "      <td>2.653200e+07</td>\n",
       "      <td>1.684200e+07</td>\n",
       "      <td>4.763800e+07</td>\n",
       "      <td>NaN</td>\n",
       "      <td>...</td>\n",
       "      <td>1.720400e+07</td>\n",
       "      <td>5.474000e+06</td>\n",
       "      <td>3.111500e+07</td>\n",
       "      <td>2.190600e+07</td>\n",
       "      <td>NaN</td>\n",
       "      <td>4.925200e+07</td>\n",
       "      <td>3.034000e+07</td>\n",
       "      <td>8.046000e+06</td>\n",
       "      <td>6.692800e+07</td>\n",
       "      <td>1.701300e+07</td>\n",
       "    </tr>\n",
       "    <tr>\n",
       "      <th>PPE</th>\n",
       "      <td>NaN</td>\n",
       "      <td>2.701000e+07</td>\n",
       "      <td>1.280700e+07</td>\n",
       "      <td>1.532200e+07</td>\n",
       "      <td>1.821860e+08</td>\n",
       "      <td>3.506000e+06</td>\n",
       "      <td>1.063500e+07</td>\n",
       "      <td>2.734900e+07</td>\n",
       "      <td>2.442240e+08</td>\n",
       "      <td>NaN</td>\n",
       "      <td>...</td>\n",
       "      <td>1.202600e+07</td>\n",
       "      <td>3.989000e+06</td>\n",
       "      <td>1.331800e+07</td>\n",
       "      <td>9.158000e+06</td>\n",
       "      <td>NaN</td>\n",
       "      <td>5.901000e+06</td>\n",
       "      <td>8.475100e+07</td>\n",
       "      <td>2.150000e+06</td>\n",
       "      <td>1.141780e+08</td>\n",
       "      <td>1.433500e+07</td>\n",
       "    </tr>\n",
       "    <tr>\n",
       "      <th>BookValue</th>\n",
       "      <td>2.050100e+07</td>\n",
       "      <td>1.282490e+08</td>\n",
       "      <td>8.170000e+05</td>\n",
       "      <td>1.313700e+07</td>\n",
       "      <td>1.455560e+08</td>\n",
       "      <td>6.358600e+07</td>\n",
       "      <td>2.306200e+07</td>\n",
       "      <td>4.326500e+07</td>\n",
       "      <td>1.673250e+08</td>\n",
       "      <td>8.689300e+07</td>\n",
       "      <td>...</td>\n",
       "      <td>4.008800e+07</td>\n",
       "      <td>1.240700e+07</td>\n",
       "      <td>5.954400e+07</td>\n",
       "      <td>2.757900e+07</td>\n",
       "      <td>2.322100e+07</td>\n",
       "      <td>3.827400e+07</td>\n",
       "      <td>2.252400e+07</td>\n",
       "      <td>3.291200e+07</td>\n",
       "      <td>7.779800e+07</td>\n",
       "      <td>2.988000e+07</td>\n",
       "    </tr>\n",
       "    <tr>\n",
       "      <th>TotDebt</th>\n",
       "      <td>NaN</td>\n",
       "      <td>7.542700e+07</td>\n",
       "      <td>9.487000e+06</td>\n",
       "      <td>2.275000e+07</td>\n",
       "      <td>3.519300e+07</td>\n",
       "      <td>2.448300e+07</td>\n",
       "      <td>2.968400e+07</td>\n",
       "      <td>1.648300e+07</td>\n",
       "      <td>2.770700e+07</td>\n",
       "      <td>NaN</td>\n",
       "      <td>...</td>\n",
       "      <td>2.427400e+07</td>\n",
       "      <td>3.471000e+06</td>\n",
       "      <td>3.139800e+07</td>\n",
       "      <td>2.169700e+07</td>\n",
       "      <td>NaN</td>\n",
       "      <td>2.577700e+07</td>\n",
       "      <td>1.054330e+08</td>\n",
       "      <td>1.588200e+07</td>\n",
       "      <td>3.601500e+07</td>\n",
       "      <td>1.870500e+07</td>\n",
       "    </tr>\n",
       "    <tr>\n",
       "      <th>ShareOut</th>\n",
       "      <td>8.830000e+05</td>\n",
       "      <td>5.217242e+06</td>\n",
       "      <td>6.027210e+05</td>\n",
       "      <td>5.918000e+05</td>\n",
       "      <td>1.882834e+06</td>\n",
       "      <td>5.010000e+06</td>\n",
       "      <td>4.272000e+06</td>\n",
       "      <td>1.568000e+06</td>\n",
       "      <td>4.256000e+06</td>\n",
       "      <td>4.016000e+05</td>\n",
       "      <td>...</td>\n",
       "      <td>2.696612e+06</td>\n",
       "      <td>1.623800e+06</td>\n",
       "      <td>5.970000e+06</td>\n",
       "      <td>7.900000e+05</td>\n",
       "      <td>2.760000e+05</td>\n",
       "      <td>9.690000e+05</td>\n",
       "      <td>4.084000e+06</td>\n",
       "      <td>2.305000e+06</td>\n",
       "      <td>2.995000e+06</td>\n",
       "      <td>1.073500e+06</td>\n",
       "    </tr>\n",
       "    <tr>\n",
       "      <th>Price</th>\n",
       "      <td>7.392000e+01</td>\n",
       "      <td>1.167300e+02</td>\n",
       "      <td>1.556900e+02</td>\n",
       "      <td>9.329000e+01</td>\n",
       "      <td>1.178200e+02</td>\n",
       "      <td>3.046000e+01</td>\n",
       "      <td>4.160000e+01</td>\n",
       "      <td>1.045600e+02</td>\n",
       "      <td>9.035000e+01</td>\n",
       "      <td>2.381800e+02</td>\n",
       "      <td>...</td>\n",
       "      <td>5.904000e+01</td>\n",
       "      <td>5.106000e+01</td>\n",
       "      <td>3.249000e+01</td>\n",
       "      <td>6.957206e+01</td>\n",
       "      <td>1.222900e+02</td>\n",
       "      <td>1.610400e+02</td>\n",
       "      <td>5.374000e+01</td>\n",
       "      <td>7.833000e+01</td>\n",
       "      <td>6.926000e+01</td>\n",
       "      <td>8.348000e+01</td>\n",
       "    </tr>\n",
       "  </tbody>\n",
       "</table>\n",
       "<p>11 rows × 26 columns</p>\n",
       "</div>"
      ],
      "text/plain": [
       "                      AXP          AAPL            BA           CAT  \\\n",
       "EBIT                  NaN  6.134400e+07  1.005300e+07  4.406000e+06   \n",
       "NetIncome    2.634000e+06  4.835100e+07  8.191000e+06  7.540000e+05   \n",
       "CashFlowOps  1.354000e+07  6.359800e+07  1.334400e+07  5.702000e+06   \n",
       "Capex       -1.062000e+06 -1.279500e+07 -1.870000e+06 -2.336000e+06   \n",
       "CurrAsset             NaN  1.068690e+08  6.248800e+07  3.196700e+07   \n",
       "CurrLiab              NaN  7.900600e+07  5.013400e+07  2.613200e+07   \n",
       "PPE                   NaN  2.701000e+07  1.280700e+07  1.532200e+07   \n",
       "BookValue    2.050100e+07  1.282490e+08  8.170000e+05  1.313700e+07   \n",
       "TotDebt               NaN  7.542700e+07  9.487000e+06  2.275000e+07   \n",
       "ShareOut     8.830000e+05  5.217242e+06  6.027210e+05  5.918000e+05   \n",
       "Price        7.392000e+01  1.167300e+02  1.556900e+02  9.329000e+01   \n",
       "\n",
       "                      CVX          CSCO            KO           DIS  \\\n",
       "EBIT         2.480000e+06  1.272900e+07  9.427000e+06  1.387300e+07   \n",
       "NetIncome    9.195000e+06  9.609000e+06  1.248000e+06  8.980000e+06   \n",
       "CashFlowOps  2.051500e+07  1.387600e+07  7.106000e+06  1.234300e+07   \n",
       "Capex       -1.340400e+07 -9.640000e+05 -1.675000e+06 -3.623000e+06   \n",
       "CurrAsset    2.961900e+07  7.871900e+07  3.401000e+07  1.696600e+07   \n",
       "CurrLiab     3.178500e+07  2.491100e+07  2.653200e+07  1.684200e+07   \n",
       "PPE          1.821860e+08  3.506000e+06  1.063500e+07  2.734900e+07   \n",
       "BookValue    1.455560e+08  6.358600e+07  2.306200e+07  4.326500e+07   \n",
       "TotDebt      3.519300e+07  2.448300e+07  2.968400e+07  1.648300e+07   \n",
       "ShareOut     1.882834e+06  5.010000e+06  4.272000e+06  1.568000e+06   \n",
       "Price        1.178200e+02  3.046000e+01  4.160000e+01  1.045600e+02   \n",
       "\n",
       "                      XOM            GS  ...           MRK           NKE  \\\n",
       "EBIT         1.207400e+07           NaN  ...  7.309000e+06  4.445000e+06   \n",
       "NetIncome    1.971000e+07  3.685000e+06  ...  2.394000e+06  1.933000e+06   \n",
       "CashFlowOps  3.006600e+07 -1.774200e+07  ...  6.447000e+06  4.955000e+06   \n",
       "Capex       -1.540200e+07 -3.185000e+06  ... -1.888000e+06 -1.028000e+06   \n",
       "CurrAsset    4.141600e+07           NaN  ...  3.061400e+07  1.606100e+07   \n",
       "CurrLiab     4.763800e+07           NaN  ...  1.720400e+07  5.474000e+06   \n",
       "PPE          2.442240e+08           NaN  ...  1.202600e+07  3.989000e+06   \n",
       "BookValue    1.673250e+08  8.689300e+07  ...  4.008800e+07  1.240700e+07   \n",
       "TotDebt      2.770700e+07           NaN  ...  2.427400e+07  3.471000e+06   \n",
       "ShareOut     4.256000e+06  4.016000e+05  ...  2.696612e+06  1.623800e+06   \n",
       "Price        9.035000e+01  2.381800e+02  ...  5.904000e+01  5.106000e+01   \n",
       "\n",
       "                      PFE           RTX           TRV           UNH  \\\n",
       "EBIT         1.410700e+07  8.672000e+06           NaN  1.418600e+07   \n",
       "NetIncome    2.130700e+07  4.552000e+06  2.041000e+06  1.055800e+07   \n",
       "CashFlowOps  1.647000e+07  5.631000e+06  3.762000e+06  1.359600e+07   \n",
       "Capex       -2.217000e+06 -2.394000e+06           NaN -2.023000e+06   \n",
       "CurrAsset    3.894900e+07  2.855000e+07           NaN  3.387900e+07   \n",
       "CurrLiab     3.111500e+07  2.190600e+07           NaN  4.925200e+07   \n",
       "PPE          1.331800e+07  9.158000e+06           NaN  5.901000e+06   \n",
       "BookValue    5.954400e+07  2.757900e+07  2.322100e+07  3.827400e+07   \n",
       "TotDebt      3.139800e+07  2.169700e+07           NaN  2.577700e+07   \n",
       "ShareOut     5.970000e+06  7.900000e+05  2.760000e+05  9.690000e+05   \n",
       "Price        3.249000e+01  6.957206e+01  1.222900e+02  1.610400e+02   \n",
       "\n",
       "                       VZ             V           WMT           WBA  \n",
       "EBIT         2.918800e+07  1.216300e+07  2.043700e+07  5.422000e+06  \n",
       "NetIncome    3.010100e+07  6.467000e+06  9.862000e+06  4.078000e+06  \n",
       "CashFlowOps  2.530500e+07  9.208000e+06  2.833700e+07  7.251000e+06  \n",
       "Capex       -1.783000e+07 -7.070000e+05 -1.005100e+07 -1.351000e+06  \n",
       "CurrAsset    2.639500e+07  1.431300e+07  5.768900e+07  2.588300e+07  \n",
       "CurrLiab     3.034000e+07  8.046000e+06  6.692800e+07  1.701300e+07  \n",
       "PPE          8.475100e+07  2.150000e+06  1.141780e+08  1.433500e+07  \n",
       "BookValue    2.252400e+07  3.291200e+07  7.779800e+07  2.988000e+07  \n",
       "TotDebt      1.054330e+08  1.588200e+07  3.601500e+07  1.870500e+07  \n",
       "ShareOut     4.084000e+06  2.305000e+06  2.995000e+06  1.073500e+06  \n",
       "Price        5.374000e+01  7.833000e+01  6.926000e+01  8.348000e+01  \n",
       "\n",
       "[11 rows x 26 columns]"
      ]
     },
     "execution_count": 422,
     "metadata": {},
     "output_type": "execute_result"
    }
   ],
   "source": [
    "all_stats_2019[tickers] = all_stats_2019[tickers].replace({',': ''}, regex=True) \n",
    "all_stats_2018[tickers] = all_stats_2018[tickers].replace({',': ''}, regex=True) \n",
    "all_stats_2017[tickers] = all_stats_2017[tickers].replace({',': ''}, regex=True) \n",
    "all_stats_2016[tickers] = all_stats_2016[tickers].replace({',': ''}, regex=True) \n",
    "for ticker in all_stats_2019.columns:\n",
    "    all_stats_2019[ticker] = pd.to_numeric(all_stats_2019[ticker].values,errors='coerce',downcast='float')\n",
    "for ticker in all_stats_2018.columns:\n",
    "    all_stats_2018[ticker] = pd.to_numeric(all_stats_2018[ticker].values,errors='coerce',downcast='float')\n",
    "for ticker in all_stats_2017.columns:\n",
    "    all_stats_2017[ticker] = pd.to_numeric(all_stats_2017[ticker].values,errors='coerce',downcast='float')\n",
    "for ticker in all_stats_2016.columns:\n",
    "    all_stats_2016[ticker] = pd.to_numeric(all_stats_2016[ticker].values,errors='coerce',downcast='float')\n",
    "all_stats_2016"
   ]
  },
  {
   "cell_type": "markdown",
   "metadata": {},
   "source": [
    "## 3. Magic Formula "
   ]
  },
  {
   "cell_type": "markdown",
   "metadata": {},
   "source": [
    "Magic Formula is based on identifying wonderful stocks at bargain price.\n",
    "It is usually applied to large cap stocks, financial and insurance companies are excluded coz their balance sheet is altogether different.\n",
    "We rank companies based on Earning Yield and Return on Capital(ROC)."
   ]
  },
  {
   "cell_type": "markdown",
   "metadata": {},
   "source": [
    "Below, I have calculated all the values that we might require during magic score calculation"
   ]
  },
  {
   "cell_type": "code",
   "execution_count": 423,
   "metadata": {},
   "outputs": [],
   "source": [
    "transpose_df = all_stats_2019.transpose()\n",
    "final_stats_2019 = pd.DataFrame()\n",
    "final_stats_2019[\"EBIT\"] = transpose_df[\"EBIT\"]\n",
    "final_stats_2019[\"TEV\"] =  ( transpose_df[\"Price\"].fillna(0) * transpose_df[\"ShareOut\"].fillna(0) )  + transpose_df[\"TotDebt\"].fillna(0) \\\n",
    "                         -(transpose_df[\"CurrAsset\"].fillna(0)-transpose_df[\"CurrLiab\"].fillna(0))\n",
    "final_stats_2019[\"EarningYield\"] =  final_stats_df[\"EBIT\"]/final_stats_df[\"TEV\"]\n",
    "final_stats_2019[\"ROC\"]  = transpose_df[\"EBIT\"]/(transpose_df[\"PPE\"]+transpose_df[\"CurrAsset\"]-transpose_df[\"CurrLiab\"])"
   ]
  },
  {
   "cell_type": "code",
   "execution_count": 424,
   "metadata": {},
   "outputs": [],
   "source": [
    "transpose_df = all_stats_2018.transpose()\n",
    "final_stats_2018 = pd.DataFrame()\n",
    "final_stats_2018[\"EBIT\"] = transpose_df[\"EBIT\"]\n",
    "final_stats_2018[\"TEV\"] =  ( transpose_df[\"Price\"].fillna(0) * transpose_df[\"ShareOut\"].fillna(0) )  + transpose_df[\"TotDebt\"].fillna(0) \\\n",
    "                         -(transpose_df[\"CurrAsset\"].fillna(0)-transpose_df[\"CurrLiab\"].fillna(0))\n",
    "final_stats_2018[\"EarningYield\"] =  final_stats_df[\"EBIT\"]/final_stats_df[\"TEV\"]\n",
    "final_stats_2018[\"ROC\"]  = transpose_df[\"EBIT\"]/(transpose_df[\"PPE\"]+transpose_df[\"CurrAsset\"]-transpose_df[\"CurrLiab\"])"
   ]
  },
  {
   "cell_type": "code",
   "execution_count": 425,
   "metadata": {},
   "outputs": [],
   "source": [
    "transpose_df = all_stats_2017.transpose()\n",
    "final_stats_2017 = pd.DataFrame()\n",
    "final_stats_2017[\"EBIT\"] = transpose_df[\"EBIT\"]\n",
    "final_stats_2017[\"TEV\"] =  ( transpose_df[\"Price\"].fillna(0) * transpose_df[\"ShareOut\"].fillna(0) )  + transpose_df[\"TotDebt\"].fillna(0) \\\n",
    "                         -(transpose_df[\"CurrAsset\"].fillna(0)-transpose_df[\"CurrLiab\"].fillna(0))\n",
    "final_stats_2017[\"EarningYield\"] =  final_stats_df[\"EBIT\"]/final_stats_df[\"TEV\"]\n",
    "final_stats_2017[\"ROC\"]  = transpose_df[\"EBIT\"]/(transpose_df[\"PPE\"]+transpose_df[\"CurrAsset\"]-transpose_df[\"CurrLiab\"])"
   ]
  },
  {
   "cell_type": "code",
   "execution_count": 426,
   "metadata": {},
   "outputs": [],
   "source": [
    "transpose_df = all_stats_2016.transpose()\n",
    "final_stats_2016 = pd.DataFrame()\n",
    "final_stats_2016[\"EBIT\"] = transpose_df[\"EBIT\"]\n",
    "final_stats_2016[\"TEV\"] =  ( transpose_df[\"Price\"].fillna(0) * transpose_df[\"ShareOut\"].fillna(0) )  + transpose_df[\"TotDebt\"].fillna(0) \\\n",
    "                         -(transpose_df[\"CurrAsset\"].fillna(0)-transpose_df[\"CurrLiab\"].fillna(0))\n",
    "final_stats_2016[\"EarningYield\"] =  final_stats_df[\"EBIT\"]/final_stats_df[\"TEV\"]\n",
    "final_stats_2016[\"ROC\"]  = transpose_df[\"EBIT\"]/(transpose_df[\"PPE\"]+transpose_df[\"CurrAsset\"]-transpose_df[\"CurrLiab\"])"
   ]
  },
  {
   "cell_type": "markdown",
   "metadata": {},
   "source": [
    "### Magic Formula Rank 2019"
   ]
  },
  {
   "cell_type": "code",
   "execution_count": 475,
   "metadata": {},
   "outputs": [
    {
     "name": "stdout",
     "output_type": "stream",
     "text": [
      "      EarningYield       ROC  MagicFormulaRank\n",
      "V         1.739917  1.557268               1.0\n",
      "AAPL      1.889904  0.694239               2.0\n",
      "JNJ       1.250407  0.796759               3.0\n",
      "KO        0.307471  2.450421               4.0\n",
      "MRK       0.733360  0.630734               5.0\n",
      "PFE       0.336885  1.439785               6.0\n",
      "HD        0.569928  0.520872               7.0\n",
      "CAT       0.551285  0.293884               8.0\n",
      "RTX       0.250251  0.477854               9.0\n",
      "IBM       0.169886  0.576762              10.0\n",
      "VZ        0.273370  0.273658              11.0\n",
      "WMT       0.349208  0.187701              12.0\n",
      "CSCO     -9.220025  0.767683              13.0\n",
      "DIS       0.223867  0.326076              14.0\n",
      "MCD       0.251179  0.229819              15.0\n",
      "UNH       0.406409 -2.177423              16.0\n",
      "XOM       0.237069  0.038284              17.0\n",
      "NKE      -1.737962  0.246158              18.0\n",
      "WBA       0.065944  0.186895              19.0\n",
      "CVX      -0.025717 -0.003697              20.0\n",
      "BA       -0.422449 -0.361043              21.0\n",
      "AXP            NaN       NaN              22.0\n",
      "GS             NaN       NaN              23.0\n",
      "INTC           NaN       NaN              24.0\n",
      "JPM            NaN       NaN              25.0\n",
      "TRV            NaN       NaN              26.0\n"
     ]
    }
   ],
   "source": [
    "final_stats_val_2019 = final_stats_2019.loc[tickers,:]\n",
    "final_stats_val_2019[\"CombRank\"] = final_stats_val_2019[\"EarningYield\"].rank(ascending=False,na_option='bottom')+final_stats_val_2019[\"ROC\"].rank(ascending=False,na_option='bottom')\n",
    "final_stats_val_2019[\"MagicFormulaRank\"] = final_stats_val_2019[\"CombRank\"].rank(method='first')\n",
    "value_stocks_2019 = final_stats_val_2019.sort_values(\"MagicFormulaRank\").iloc[:,[2,3,5]]\n",
    "print(value_stocks_2019)"
   ]
  },
  {
   "cell_type": "markdown",
   "metadata": {},
   "source": [
    "### Magic Formula Rank 2018"
   ]
  },
  {
   "cell_type": "code",
   "execution_count": 476,
   "metadata": {},
   "outputs": [],
   "source": [
    "final_stats_val_2018 = final_stats_2018.loc[tickers,:]\n",
    "final_stats_val_2018[\"CombRank\"] = final_stats_val_2018[\"EarningYield\"].rank(ascending=False,na_option='bottom')+final_stats_val_2018[\"ROC\"].rank(ascending=False,na_option='bottom')\n",
    "final_stats_val_2018[\"MagicFormulaRank\"] = final_stats_val_2018[\"CombRank\"].rank(method='first')\n",
    "value_stocks_2018 = final_stats_val_2018.sort_values(\"MagicFormulaRank\").iloc[:,[2,3,5]]\n"
   ]
  },
  {
   "cell_type": "markdown",
   "metadata": {},
   "source": [
    "### Magic Formula Rank 2017"
   ]
  },
  {
   "cell_type": "code",
   "execution_count": 477,
   "metadata": {},
   "outputs": [],
   "source": [
    "final_stats_val_2017 = final_stats_2017.loc[tickers,:]\n",
    "final_stats_val_2017[\"CombRank\"] = final_stats_val_2017[\"EarningYield\"].rank(ascending=False,na_option='bottom')+final_stats_val_2017[\"ROC\"].rank(ascending=False,na_option='bottom')\n",
    "final_stats_val_2017[\"MagicFormulaRank\"] = final_stats_val_2017[\"CombRank\"].rank(method='first')\n",
    "value_stocks_2017 = final_stats_val_2017.sort_values(\"MagicFormulaRank\").iloc[:,[2,3,5]]\n"
   ]
  },
  {
   "cell_type": "markdown",
   "metadata": {},
   "source": [
    "### Magic Formula Rank 2016"
   ]
  },
  {
   "cell_type": "code",
   "execution_count": 479,
   "metadata": {},
   "outputs": [],
   "source": [
    "final_stats_val_2016 = final_stats_2016.loc[tickers,:]\n",
    "final_stats_val_2016[\"CombRank\"] = final_stats_val_2016[\"EarningYield\"].rank(ascending=False,na_option='bottom')+final_stats_val_2016[\"ROC\"].rank(ascending=False,na_option='bottom')\n",
    "final_stats_val_2016[\"MagicFormulaRank\"] = final_stats_val_2016[\"CombRank\"].rank(method='first')\n",
    "value_stocks_2016 = final_stats_val_2016.sort_values(\"MagicFormulaRank\").iloc[:,[2,3,5]]"
   ]
  },
  {
   "cell_type": "markdown",
   "metadata": {},
   "source": [
    "## 4. Magic Formula Rebalancing"
   ]
  },
  {
   "cell_type": "markdown",
   "metadata": {},
   "source": [
    "I am assuming I have 1,000,000 (1 mil) at the start of 2017. I invest in top 10 Magic Ranked stocks. I invest 100,000 in each stock."
   ]
  },
  {
   "cell_type": "code",
   "execution_count": 508,
   "metadata": {},
   "outputs": [],
   "source": [
    "stock=[]\n",
    "cash=[]\n",
    "portfolio=[]\n",
    "stock_val=0\n",
    "cash_val=1000000\n",
    "portfolio_val=cash_val+stock_val\n",
    "index_2016=value_stocks_2016.index\n",
    "index_2016=index_2016[0:10]\n",
    "number_stocks={}\n",
    "price={}\n",
    "counter=0\n",
    "for ticker in index_2016:\n",
    "        a= pdr.get_data_yahoo(ticker,start=\"2017-01-03\", end=\"2017-01-03\", interval='d')['Open'][0]\n",
    "        price[ticker]=a\n",
    "        number_stocks[ticker]=int(100000/a)\n",
    "        stock_val+=a*number_stocks[ticker]\n",
    "        cash_val-=a*number_stocks[ticker]\n",
    "portfolio_val=cash_val+stock_val\n",
    "stock.append(stock_val)\n",
    "cash.append(cash_val)\n",
    "portfolio.append(portfolio_val)"
   ]
  },
  {
   "cell_type": "code",
   "execution_count": 509,
   "metadata": {},
   "outputs": [
    {
     "data": {
      "text/plain": [
       "({'AAPL', 'HD', 'IBM', 'JNJ', 'KO', 'MRK', 'PFE', 'V'},\n",
       " {'CAT', 'DIS'},\n",
       " {'MCD', 'RTX'})"
      ]
     },
     "execution_count": 509,
     "metadata": {},
     "output_type": "execute_result"
    }
   ],
   "source": [
    "index_2017=value_stocks_2017.index\n",
    "index_2017=index_2017[0:10]\n",
    "common_in_2016_2017=set(index_2017).intersection(set(index_2016))\n",
    "magic_square_not_in_2017=set(index_2016)-set(index_2017)\n",
    "new_magic_square_2017=set(index_2017)-set(index_2016)\n",
    "common_in_2016_2017,new_magic_square_2017, magic_square_not_in_2017"
   ]
  },
  {
   "cell_type": "code",
   "execution_count": 510,
   "metadata": {},
   "outputs": [],
   "source": [
    "# Update the currnet porfolio value\n",
    "for i in common_in_2016_2017:\n",
    "    a= pdr.get_data_yahoo(i,start=\"2018-01-02\", end=\"2018-01-02\", interval='d')['Open'][0]\n",
    "    stock_val+=(a-price[i])*number_stocks[i]\n",
    "    price[i]=a\n",
    "# Selling Old\n",
    "for i in magic_square_not_in_2017:\n",
    "    a= pdr.get_data_yahoo(i,start=\"2018-01-02\", end=\"2018-01-02\", interval='d')['Open'][0]\n",
    "    cash_val+=a*number_stocks[i]\n",
    "    stock_val-=a*number_stocks[i]\n",
    "    del price[i]\n",
    "    del number_stocks[i]\n",
    "# Buying New\n",
    "for i in new_magic_square_2017:\n",
    "    a= pdr.get_data_yahoo(i,start=\"2018-01-02\", end=\"2018-01-02\", interval='d')['Open'][0]\n",
    "    number_stocks[i]=int(100000/a)\n",
    "    price[i]=a\n",
    "    stock_val+=a*number_stocks[i]\n",
    "    cash_val-=a*number_stocks[i]\n",
    "    \n",
    "portfolio_val=cash_val+stock_val\n",
    "stock.append(stock_val)\n",
    "cash.append(cash_val)\n",
    "portfolio.append(portfolio_val)"
   ]
  },
  {
   "cell_type": "code",
   "execution_count": 511,
   "metadata": {},
   "outputs": [
    {
     "data": {
      "text/plain": [
       "[1000000.0, 1163821.1403388977]"
      ]
     },
     "execution_count": 511,
     "metadata": {},
     "output_type": "execute_result"
    }
   ],
   "source": [
    "portfolio"
   ]
  },
  {
   "cell_type": "code",
   "execution_count": 512,
   "metadata": {},
   "outputs": [
    {
     "data": {
      "text/plain": [
       "({'AAPL', 'CAT', 'HD', 'IBM', 'JNJ', 'KO', 'MRK', 'PFE', 'V'},\n",
       " {'RTX'},\n",
       " {'DIS'})"
      ]
     },
     "execution_count": 512,
     "metadata": {},
     "output_type": "execute_result"
    }
   ],
   "source": [
    "index_2018=value_stocks_2018.index\n",
    "index_2018=index_2018[0:10]\n",
    "common_in_2017_2018=set(index_2018).intersection(set(index_2017))\n",
    "magic_square_not_in_2018=set(index_2017)-set(index_2018)\n",
    "new_magic_square_2018=set(index_2018)-set(index_2017)\n",
    "common_in_2017_2018,new_magic_square_2018, magic_square_not_in_2018"
   ]
  },
  {
   "cell_type": "code",
   "execution_count": 513,
   "metadata": {},
   "outputs": [],
   "source": [
    "# Update the currnet porfolio value\n",
    "for i in common_in_2017_2018:\n",
    "    a= pdr.get_data_yahoo(ticker,start=\"2019-01-02\", end=\"2019-01-02\", interval='d')['Open'][0]\n",
    "    stock_val+=(a-price[i])*number_stocks[i]\n",
    "    price[i]=a\n",
    "# Selling Old\n",
    "for i in magic_square_not_in_2018:\n",
    "    a= pdr.get_data_yahoo(ticker,start=\"2019-01-02\", end=\"2019-01-02\", interval='d')['Open'][0]\n",
    "    cash_val+=a*number_stocks[i]\n",
    "    stock_val-=a*number_stocks[i]\n",
    "    del price[i]\n",
    "    del number_stocks[i]\n",
    "# Buying New\n",
    "for i in new_magic_square_2018:\n",
    "    a= pdr.get_data_yahoo(ticker,start=\"2019-01-02\", end=\"2019-01-02\", interval='d')['Open'][0]\n",
    "    number_stocks[i]=int(100000/a)\n",
    "    price[i]=a\n",
    "    stock_val+=a*number_stocks[i]\n",
    "    cash_val-=a*number_stocks[i]\n",
    "    \n",
    "portfolio_val=cash_val+stock_val\n",
    "stock.append(stock_val)\n",
    "cash.append(cash_val)\n",
    "portfolio.append(portfolio_val)"
   ]
  },
  {
   "cell_type": "code",
   "execution_count": 514,
   "metadata": {},
   "outputs": [
    {
     "data": {
      "text/plain": [
       "[1000000.0, 1163821.1403388977, 2226683.758743286]"
      ]
     },
     "execution_count": 514,
     "metadata": {},
     "output_type": "execute_result"
    }
   ],
   "source": [
    "portfolio"
   ]
  },
  {
   "cell_type": "code",
   "execution_count": 515,
   "metadata": {},
   "outputs": [
    {
     "data": {
      "text/plain": [
       "({'AAPL', 'CAT', 'HD', 'IBM', 'JNJ', 'KO', 'MRK', 'PFE', 'RTX', 'V'},\n",
       " set(),\n",
       " set())"
      ]
     },
     "execution_count": 515,
     "metadata": {},
     "output_type": "execute_result"
    }
   ],
   "source": [
    "index_2019=value_stocks_2019.index\n",
    "index_2019=index_2019[0:10]\n",
    "common_in_2018_2019=set(index_2019).intersection(set(index_2018))\n",
    "magic_square_not_in_2019=set(index_2018)-set(index_2019)\n",
    "new_magic_square_2019=set(index_2019)-set(index_2018)\n",
    "new_magic_square_2019\n",
    "common_in_2018_2019,new_magic_square_2019, magic_square_not_in_2019"
   ]
  },
  {
   "cell_type": "code",
   "execution_count": 517,
   "metadata": {},
   "outputs": [],
   "source": [
    "# Update the currnet porfolio value\n",
    "for i in common_in_2018_2019:\n",
    "    a= pdr.get_data_yahoo(ticker,start=\"2020-01-02\", end=\"2020-01-02\", interval='d')['Open'][0]\n",
    "    stock_val+=(a-price[i])*number_stocks[i]\n",
    "    price[i]=a\n",
    "# Selling Old\n",
    "for i in magic_square_not_in_2019:\n",
    "    a= pdr.get_data_yahoo(ticker,start=\"2020-01-02\", end=\"2020-01-02\", interval='d')['Open'][0]\n",
    "    cash_val+=a*number_stocks[i]\n",
    "    stock_val-=a*number_stocks[i]\n",
    "    del price[i]\n",
    "    del number_stocks[i]\n",
    "# Buying New\n",
    "for i in new_magic_square_2019:\n",
    "    a= pdr.get_data_yahoo(ticker,start=\"2020-01-02\", end=\"2020-01-02\", interval='d')['Open'][0]\n",
    "    number_stocks[i]=int(100000/a)\n",
    "    price[i]=a\n",
    "    stock_val+=a*number_stocks[i]\n",
    "    cash_val-=a*number_stocks[i]\n",
    "\n",
    "portfolio_val=cash_val+stock_val\n",
    "stock.append(stock_val)\n",
    "cash.append(cash_val)\n",
    "portfolio.append(portfolio_val)"
   ]
  },
  {
   "cell_type": "code",
   "execution_count": 537,
   "metadata": {},
   "outputs": [
    {
     "data": {
      "text/html": [
       "<div>\n",
       "<style scoped>\n",
       "    .dataframe tbody tr th:only-of-type {\n",
       "        vertical-align: middle;\n",
       "    }\n",
       "\n",
       "    .dataframe tbody tr th {\n",
       "        vertical-align: top;\n",
       "    }\n",
       "\n",
       "    .dataframe thead th {\n",
       "        text-align: right;\n",
       "    }\n",
       "</style>\n",
       "<table border=\"1\" class=\"dataframe\">\n",
       "  <thead>\n",
       "    <tr style=\"text-align: right;\">\n",
       "      <th></th>\n",
       "      <th>Portfolio Value</th>\n",
       "    </tr>\n",
       "  </thead>\n",
       "  <tbody>\n",
       "    <tr>\n",
       "      <th>2017</th>\n",
       "      <td>1.000000e+06</td>\n",
       "    </tr>\n",
       "    <tr>\n",
       "      <th>2018</th>\n",
       "      <td>1.163821e+06</td>\n",
       "    </tr>\n",
       "    <tr>\n",
       "      <th>2019</th>\n",
       "      <td>2.226684e+06</td>\n",
       "    </tr>\n",
       "    <tr>\n",
       "      <th>2020</th>\n",
       "      <td>2.513373e+06</td>\n",
       "    </tr>\n",
       "  </tbody>\n",
       "</table>\n",
       "</div>"
      ],
      "text/plain": [
       "      Portfolio Value\n",
       "2017     1.000000e+06\n",
       "2018     1.163821e+06\n",
       "2019     2.226684e+06\n",
       "2020     2.513373e+06"
      ]
     },
     "execution_count": 537,
     "metadata": {},
     "output_type": "execute_result"
    }
   ],
   "source": [
    "df=pd.DataFrame(portfolio, index=['2017','2018','2019','2020'],columns=['Portfolio Value'])\n",
    "df"
   ]
  },
  {
   "cell_type": "code",
   "execution_count": 538,
   "metadata": {
    "scrolled": true
   },
   "outputs": [
    {
     "data": {
      "image/png": "[encoded data removed]",
      "text/plain": [
       "<Figure size 720x432 with 1 Axes>"
      ]
     },
     "metadata": {
      "needs_background": "light"
     },
     "output_type": "display_data"
    }
   ],
   "source": [
    "df.plot(figsize=(10,6))\n",
    "plt.xlabel('Date')\n",
    "plt.ylabel('Portfolio Value')\n",
    "plt.title('Portfolio',fontweight=\"bold\",fontsize=13)\n",
    "plt.show()"
   ]
  },
  {
   "cell_type": "code",
   "execution_count": null,
   "metadata": {},
   "outputs": [],
   "source": []
  }
 ],
 "metadata": {
  "kernelspec": {
   "display_name": "Python 3",
   "language": "python",
   "name": "python3"
  },
  "language_info": {
   "codemirror_mode": {
    "name": "ipython",
    "version": 3
   },
   "file_extension": ".py",
   "mimetype": "text/x-python",
   "name": "python",
   "nbconvert_exporter": "python",
   "pygments_lexer": "ipython3",
   "version": "3.8.8"
  }
 },
 "nbformat": 4,
 "nbformat_minor": 4
}
