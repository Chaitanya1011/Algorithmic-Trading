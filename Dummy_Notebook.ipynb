{
 "cells": [
  {
   "cell_type": "code",
   "execution_count": null,
   "id": "af1c67fc",
   "metadata": {},
   "outputs": [],
   "source": [
    "Start_Date=\"2021-01-04\"\n",
    "Maturity=\"2022-01-21\""
   ]
  },
  {
   "cell_type": "code",
   "execution_count": null,
   "id": "57d3a7c9",
   "metadata": {},
   "outputs": [],
   "source": [
    "data=pd.read_excel(\"options.xlsx\")\n",
    "stock_SPX=pdr.get_data_yahoo('^GSPC', Start_Date, \"2021-10-07\")"
   ]
  },
  {
   "cell_type": "code",
   "execution_count": null,
   "id": "6bac9923",
   "metadata": {},
   "outputs": [],
   "source": [
    "x=list(data['Dates'])"
   ]
  },
  {
   "cell_type": "code",
   "execution_count": null,
   "id": "0f9d42c4",
   "metadata": {},
   "outputs": [],
   "source": [
    "stock_SPX['Adj Close'].pct_change().std()"
   ]
  },
  {
   "cell_type": "code",
   "execution_count": null,
   "id": "7f990fe6",
   "metadata": {},
   "outputs": [],
   "source": [
    "d=list(stock_SPX.index)\n",
    "for i in x:\n",
    "    if i not in d:\n",
    "        print(i)"
   ]
  },
  {
   "cell_type": "code",
   "execution_count": null,
   "id": "7b229ef9",
   "metadata": {},
   "outputs": [],
   "source": [
    "spx_price=list(stock_SPX['Adj Close'])\n",
    "data['SPX']=spx_price"
   ]
  },
  {
   "cell_type": "code",
   "execution_count": null,
   "id": "1cebcaef",
   "metadata": {},
   "outputs": [],
   "source": [
    "Start_Date=\"2021-01-04\"\n",
    "Maturity=\"2022-01-21\""
   ]
  },
  {
   "cell_type": "code",
   "execution_count": null,
   "id": "f7d85029",
   "metadata": {},
   "outputs": [],
   "source": [
    "import scipy.stats as si"
   ]
  },
  {
   "cell_type": "code",
   "execution_count": null,
   "id": "e5fdeb1f",
   "metadata": {},
   "outputs": [],
   "source": [
    "import math as m"
   ]
  },
  {
   "cell_type": "code",
   "execution_count": null,
   "id": "c1c94a2b",
   "metadata": {},
   "outputs": [],
   "source": [
    "import numpy as np\n",
    "import datetime as dt\n",
    "\n",
    "\n",
    "start = dt.date( 2021, 1, 4 )\n",
    "end = dt.date( 2022, 1, 21 )\n",
    "\n",
    "T = np.busday_count( start, end )"
   ]
  },
  {
   "cell_type": "code",
   "execution_count": null,
   "id": "020f19cb",
   "metadata": {},
   "outputs": [],
   "source": [
    "data.head()"
   ]
  },
  {
   "cell_type": "code",
   "execution_count": null,
   "id": "8ef1e6e4",
   "metadata": {},
   "outputs": [],
   "source": [
    "options_list=list(data.columns)\n",
    "options_list.remove('SPX')\n",
    "options_list.remove('Dates')"
   ]
  },
  {
   "cell_type": "code",
   "execution_count": null,
   "id": "523d743f",
   "metadata": {},
   "outputs": [],
   "source": [
    "weights=pd.DataFrame()\n",
    "weights['Dates']=data['Dates']\n",
    "for col in options_list:\n",
    "    strike=col.split(\" \")[0]\n",
    "    X=int(strike[1:])\n",
    "    weights[col]=1/pow(X,2)\n",
    "# for i in range(len(weights)):\n",
    "#     for j in weights.columns:\n",
    "weights"
   ]
  },
  {
   "cell_type": "code",
   "execution_count": null,
   "id": "76ce8104",
   "metadata": {},
   "outputs": [],
   "source": [
    "implied_vol=pd.DataFrame()\n",
    "implied_vol_call=pd.DataFrame()\n",
    "implied_vol_put=pd.DataFrame()\n",
    "cols=data.columns\n",
    "for j in range(1,9):\n",
    "    strike=cols[j].split(\" \")[0]\n",
    "    X=int(strike[1:])\n",
    "    temp=[]\n",
    "    for i in range(len(data)):\n",
    "        temp.append(newton_vol_call(data['SPX'][i], X, T, data[cols[j]][i], 0.05, 0.25))\n",
    "    implied_vol[strike]=temp\n",
    "    implied_vol_call[strike]=temp\n",
    "temp=[]\n",
    "for i in range(len(data)):\n",
    "    temp.append(newton_vol_call(data['SPX'][i], data['SPX'][i], T, data[cols[j]][i], 0.05, 0.25))\n",
    "implied_vol['SPX']=temp\n",
    "implied_vol_call['SPX']=temp\n",
    "implied_vol_put['SPX']=temp"
   ]
  },
  {
   "cell_type": "code",
   "execution_count": null,
   "id": "a595dd74",
   "metadata": {},
   "outputs": [],
   "source": [
    "for j in range(10,len(cols)-1):\n",
    "    strike=cols[j].split(\" \")[0]\n",
    "    X=int(strike[1:])\n",
    "    temp=[]\n",
    "    for i in range(len(data)):\n",
    "        temp.append(newton_vol_put(data['SPX'][i], X, T, data[cols[j]][i], 0.05, 0.25))\n",
    "    implied_vol[strike]=temp\n",
    "    implied_vol_put[strike]=temp\n",
    "    "
   ]
  },
  {
   "cell_type": "code",
   "execution_count": null,
   "id": "6ec254f1",
   "metadata": {},
   "outputs": [],
   "source": [
    "implied_vol_call['Date']=x\n",
    "implied_vol_put['Date']=x\n",
    "implied_vol_put.set_index('Date')\n",
    "implied_vol_call.set_index('Date')"
   ]
  },
  {
   "cell_type": "code",
   "execution_count": null,
   "id": "5dbd7f3b",
   "metadata": {},
   "outputs": [],
   "source": [
    "s_prices=[]\n",
    "for i in range(3000,5000,100):\n",
    "    s_prices.append(i)"
   ]
  },
  {
   "cell_type": "code",
   "execution_count": null,
   "id": "dd80c37f",
   "metadata": {},
   "outputs": [],
   "source": [
    "big={}\n",
    "for i in x:\n",
    "    big[i]=s_prices"
   ]
  },
  {
   "cell_type": "code",
   "execution_count": null,
   "id": "650dddfa",
   "metadata": {},
   "outputs": [],
   "source": [
    "var_vega={}"
   ]
  },
  {
   "cell_type": "code",
   "execution_count": null,
   "id": "f598651c",
   "metadata": {},
   "outputs": [],
   "source": [
    "implied_vol_call.iloc[-10]"
   ]
  },
  {
   "cell_type": "code",
   "execution_count": null,
   "id": "71cf7112",
   "metadata": {},
   "outputs": [],
   "source": [
    "temp_cols=list(implied_vol_call.columns)\n",
    "#implied_vol_call.iloc[-10]\n",
    "temp_cols=temp_cols[:len(temp_cols)-2]\n",
    "smile={}\n",
    "for i in range(len(temp_cols)):\n",
    "    smile[int(temp_cols[i][1:])]=implied_vol_call.iloc[-4][i]\n",
    "#     print(str(temp_cols[i]) + \"  \" + str(implied_vol_call.iloc[-10][i]) )"
   ]
  },
  {
   "cell_type": "code",
   "execution_count": null,
   "id": "3bf2dd13",
   "metadata": {},
   "outputs": [],
   "source": [
    "plt.plot(smile.keys(),smile.values())"
   ]
  },
  {
   "cell_type": "code",
   "execution_count": null,
   "id": "c389676a",
   "metadata": {},
   "outputs": [],
   "source": [
    "for j in range(len(cols)-1):\n",
    "    if \"C\" in cols[j] and cols[j]!=\"Dates\":\n",
    "        print(cols[j])"
   ]
  },
  {
   "cell_type": "code",
   "execution_count": null,
   "id": "2e69852f",
   "metadata": {},
   "outputs": [],
   "source": [
    "#var_vega=[[0 for j in range(len(x)) for i in range(s_prices)]\n",
    "var_vega={}\n",
    "for i in range(len(data)):\n",
    "    #print(i)\n",
    "    a={}\n",
    "    for s in s_prices:\n",
    "        temp=0\n",
    "        for j in range(1,len(cols)-1):\n",
    "            strike=cols[j].split(\" \")[0]\n",
    "            X=int(strike[1:])\n",
    "            #print(cols[j])\n",
    "            if \"C\" in cols[j] and cols[j]!=\"Dates\":\n",
    "                temp+=(1*variance_vega(s,X,i, 0.05, implied_vol[strike][i]) * weights[cols[j]][i])\n",
    "        a[s]=temp\n",
    "    var_vega[x[i]]=a"
   ]
  },
  {
   "cell_type": "code",
   "execution_count": null,
   "id": "ca6c89b6",
   "metadata": {},
   "outputs": [],
   "source": [
    "dt=x[130]\n",
    "var_vega[dt]\n",
    "a=list(var_vega[dt].keys())\n",
    "b=list(var_vega[dt].values())\n",
    "len(a),len(b)\n",
    "plt.plot(a,b)"
   ]
  },
  {
   "cell_type": "code",
   "execution_count": null,
   "id": "ca13c84f",
   "metadata": {},
   "outputs": [],
   "source": [
    "# var_vega={}\n",
    "# for i in range(10):\n",
    "#     qwerty=pd.DataFrame()\n",
    "#     for j in range(10,len(cols)-1):\n",
    "#         strike=cols[j].split(\" \")[0]\n",
    "#         X=int(strike[1:])\n",
    "#         temp=[]\n",
    "#         for s in big[x[i]]:\n",
    "#             temp.append( variance_vega(s,X,i, 0.05, implied_vol[strike][i]) * weights[cols[j]][i] )\n",
    "            \n",
    "#         qwerty[cols[j]]=temp\n",
    "#     var_vega[i]=qwerty "
   ]
  },
  {
   "cell_type": "code",
   "execution_count": null,
   "id": "5547d63e",
   "metadata": {},
   "outputs": [],
   "source": [
    "\n",
    "# variance_vega={}\n",
    "# for j in range(10,len(cols)):\n",
    "#     strike=cols[j].split(\" \")[0]\n",
    "#     if j!=len(cols)-1:\n",
    "#         X=int(strike[1:])\n",
    "#         temp=pd.DataFrame()\n",
    "#         for i in range(len(data)):\n",
    "#             dt=data['Dates'][i]\n",
    "#             for s in range(len(big[dt])):\n",
    "#                 temp.append(variance_vega(big[dt][s], X, s, data[cols[j]][i], 0.05, implied_vol_call[cols[j]][i]))\n",
    "#         variance_vega[strike]=temp"
   ]
  },
  {
   "cell_type": "code",
   "execution_count": null,
   "id": "ff717fec",
   "metadata": {},
   "outputs": [],
   "source": []
  },
  {
   "cell_type": "code",
   "execution_count": 125,
   "id": "97cbbfb0",
   "metadata": {
    "scrolled": true
   },
   "outputs": [
    {
     "ename": "NameError",
     "evalue": "name 'implied_vol_call' is not defined",
     "output_type": "error",
     "traceback": [
      "\u001b[0;31m---------------------------------------------------------------------------\u001b[0m",
      "\u001b[0;31mNameError\u001b[0m                                 Traceback (most recent call last)",
      "\u001b[0;32m<ipython-input-125-cad037ec494b>\u001b[0m in \u001b[0;36m<module>\u001b[0;34m\u001b[0m\n\u001b[1;32m      1\u001b[0m \u001b[0max\u001b[0m \u001b[0;34m=\u001b[0m \u001b[0mplt\u001b[0m\u001b[0;34m.\u001b[0m\u001b[0mgca\u001b[0m\u001b[0;34m(\u001b[0m\u001b[0;34m)\u001b[0m\u001b[0;34m\u001b[0m\u001b[0;34m\u001b[0m\u001b[0m\n\u001b[0;32m----> 2\u001b[0;31m \u001b[0mimplied_vol_call\u001b[0m\u001b[0;34m.\u001b[0m\u001b[0mplot\u001b[0m\u001b[0;34m(\u001b[0m\u001b[0mkind\u001b[0m\u001b[0;34m=\u001b[0m\u001b[0;34m'line'\u001b[0m\u001b[0;34m,\u001b[0m\u001b[0mx\u001b[0m\u001b[0;34m=\u001b[0m\u001b[0;34m'Date'\u001b[0m\u001b[0;34m,\u001b[0m\u001b[0my\u001b[0m\u001b[0;34m=\u001b[0m\u001b[0;34m'C4800'\u001b[0m\u001b[0;34m,\u001b[0m\u001b[0mcolor\u001b[0m\u001b[0;34m=\u001b[0m\u001b[0;34m\"yellow\"\u001b[0m\u001b[0;34m,\u001b[0m\u001b[0max\u001b[0m\u001b[0;34m=\u001b[0m\u001b[0max\u001b[0m\u001b[0;34m)\u001b[0m\u001b[0;34m\u001b[0m\u001b[0;34m\u001b[0m\u001b[0m\n\u001b[0m\u001b[1;32m      3\u001b[0m \u001b[0mimplied_vol_call\u001b[0m\u001b[0;34m.\u001b[0m\u001b[0mplot\u001b[0m\u001b[0;34m(\u001b[0m\u001b[0mkind\u001b[0m\u001b[0;34m=\u001b[0m\u001b[0;34m'line'\u001b[0m\u001b[0;34m,\u001b[0m\u001b[0mx\u001b[0m\u001b[0;34m=\u001b[0m\u001b[0;34m'Date'\u001b[0m\u001b[0;34m,\u001b[0m\u001b[0my\u001b[0m\u001b[0;34m=\u001b[0m\u001b[0;34m'C4700'\u001b[0m\u001b[0;34m,\u001b[0m \u001b[0mcolor\u001b[0m\u001b[0;34m=\u001b[0m\u001b[0;34m'red'\u001b[0m\u001b[0;34m,\u001b[0m \u001b[0max\u001b[0m\u001b[0;34m=\u001b[0m\u001b[0max\u001b[0m\u001b[0;34m)\u001b[0m\u001b[0;34m\u001b[0m\u001b[0;34m\u001b[0m\u001b[0m\n\u001b[1;32m      4\u001b[0m \u001b[0mimplied_vol_call\u001b[0m\u001b[0;34m.\u001b[0m\u001b[0mplot\u001b[0m\u001b[0;34m(\u001b[0m\u001b[0mkind\u001b[0m\u001b[0;34m=\u001b[0m\u001b[0;34m'line'\u001b[0m\u001b[0;34m,\u001b[0m\u001b[0mx\u001b[0m\u001b[0;34m=\u001b[0m\u001b[0;34m'Date'\u001b[0m\u001b[0;34m,\u001b[0m\u001b[0my\u001b[0m\u001b[0;34m=\u001b[0m\u001b[0;34m'C4650'\u001b[0m\u001b[0;34m,\u001b[0m\u001b[0mcolor\u001b[0m\u001b[0;34m=\u001b[0m\u001b[0;34m\"green\"\u001b[0m\u001b[0;34m,\u001b[0m\u001b[0max\u001b[0m\u001b[0;34m=\u001b[0m\u001b[0max\u001b[0m\u001b[0;34m)\u001b[0m\u001b[0;34m\u001b[0m\u001b[0;34m\u001b[0m\u001b[0m\n\u001b[1;32m      5\u001b[0m \u001b[0mimplied_vol_call\u001b[0m\u001b[0;34m.\u001b[0m\u001b[0mplot\u001b[0m\u001b[0;34m(\u001b[0m\u001b[0mkind\u001b[0m\u001b[0;34m=\u001b[0m\u001b[0;34m'line'\u001b[0m\u001b[0;34m,\u001b[0m\u001b[0mx\u001b[0m\u001b[0;34m=\u001b[0m\u001b[0;34m'Date'\u001b[0m\u001b[0;34m,\u001b[0m\u001b[0my\u001b[0m\u001b[0;34m=\u001b[0m\u001b[0;34m'C4500'\u001b[0m\u001b[0;34m,\u001b[0m \u001b[0mcolor\u001b[0m\u001b[0;34m=\u001b[0m\u001b[0;34m'blue'\u001b[0m\u001b[0;34m,\u001b[0m \u001b[0max\u001b[0m\u001b[0;34m=\u001b[0m\u001b[0max\u001b[0m\u001b[0;34m)\u001b[0m\u001b[0;34m\u001b[0m\u001b[0;34m\u001b[0m\u001b[0m\n",
      "\u001b[0;31mNameError\u001b[0m: name 'implied_vol_call' is not defined"
     ]
    },
    {
     "data": {
      "image/png": "[encoded data removed]",
      "text/plain": [
       "<Figure size 432x288 with 1 Axes>"
      ]
     },
     "metadata": {
      "needs_background": "light"
     },
     "output_type": "display_data"
    }
   ],
   "source": [
    "ax = plt.gca()\n",
    "implied_vol_call.plot(kind='line',x='Date',y='C4800',color=\"yellow\",ax=ax)\n",
    "implied_vol_call.plot(kind='line',x='Date',y='C4700', color='red', ax=ax)\n",
    "implied_vol_call.plot(kind='line',x='Date',y='C4650',color=\"green\",ax=ax)\n",
    "implied_vol_call.plot(kind='line',x='Date',y='C4500', color='blue', ax=ax)\n",
    "implied_vol_call.plot(kind='line',x='Date',y='C4450',color=\"black\",ax=ax)\n",
    "implied_vol_call.plot(kind='line',x='Date',y='C4400', color='brown', ax=ax)\n",
    "implied_vol_call.plot(kind='line',x='Date',y='C4250',color=\"pink\",ax=ax)\n",
    "implied_vol_call.plot(kind='line',x='Date',y='C4150', color='purple', ax=ax)\n",
    "implied_vol_call.plot(kind='line',x='Date',y='SPX', color='grey', ax=ax)"
   ]
  },
  {
   "cell_type": "markdown",
   "id": "1eedffda",
   "metadata": {},
   "source": [
    "\n",
    "ax = plt.gca()\n",
    "implied_vol_put.plot(kind='line',x='Date',y='P4300',color=\"yellow\",ax=ax)\n",
    "implied_vol_put.plot(kind='line',x='Date',y='P4200', color='red', ax=ax)\n",
    "implied_vol_put.plot(kind='line',x='Date',y='P4100',color=\"green\",ax=ax)\n",
    "implied_vol_put.plot(kind='line',x='Date',y='P4000', color='blue', ax=ax)\n",
    "implied_vol_put.plot(kind='line',x='Date',y='P3800',color=\"black\",ax=ax)\n",
    "implied_vol_put.plot(kind='line',x='Date',y='P3750', color='brown', ax=ax)\n",
    "implied_vol_put.plot(kind='line',x='Date',y='P3500',color=\"pink\",ax=ax)\n",
    "implied_vol_put.plot(kind='line',x='Date',y='P3325', color='purple', ax=ax)\n",
    "implied_vol_put.plot(kind='line',x='Date',y='SPX', color='grey', ax=ax)"
   ]
  },
  {
   "cell_type": "code",
   "execution_count": null,
   "id": "a6dfdf10",
   "metadata": {},
   "outputs": [],
   "source": [
    "a=[[1,2,3],[1,5,6],[1,5,7],[10,11,14]]"
   ]
  },
  {
   "cell_type": "code",
   "execution_count": null,
   "id": "884c2d4d",
   "metadata": {},
   "outputs": [],
   "source": [
    "t=sorted(a,key=lambda x :(x[0],x[1],x[2]))"
   ]
  },
  {
   "cell_type": "code",
   "execution_count": null,
   "id": "2d2a3bf5",
   "metadata": {},
   "outputs": [],
   "source": [
    "t"
   ]
  },
  {
   "cell_type": "code",
   "execution_count": null,
   "id": "415eb1f3",
   "metadata": {},
   "outputs": [],
   "source": [
    "s = sorted(s, key = lambda x: (x[1], x[2]))"
   ]
  },
  {
   "cell_type": "code",
   "execution_count": null,
   "id": "6c6d1d69",
   "metadata": {},
   "outputs": [],
   "source": []
  }
 ],
 "metadata": {
  "kernelspec": {
   "display_name": "Python 3",
   "language": "python",
   "name": "python3"
  },
  "language_info": {
   "codemirror_mode": {
    "name": "ipython",
    "version": 3
   },
   "file_extension": ".py",
   "mimetype": "text/x-python",
   "name": "python",
   "nbconvert_exporter": "python",
   "pygments_lexer": "ipython3",
   "version": "3.8.8"
  }
 },
 "nbformat": 4,
 "nbformat_minor": 5
}
