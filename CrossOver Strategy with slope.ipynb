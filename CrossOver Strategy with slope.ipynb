{
 "cells": [
  {
   "cell_type": "markdown",
   "metadata": {},
   "source": [
    "## CrossOver Strategy"
   ]
  },
  {
   "cell_type": "markdown",
   "metadata": {},
   "source": [
    "Usually we apply crossover strategy on short term and long term moving average. The basic premise is when the short-term average crosses the long-term average, buy signal is triggered.<br>\n",
    "Here I am implementing the same but with some modification. Instead of moving average, I'll use <b>slope.</b>"
   ]
  },
  {
   "cell_type": "code",
   "execution_count": 1,
   "metadata": {},
   "outputs": [],
   "source": [
    "import pandas as pd\n",
    "import numpy as np\n",
    "import matplotlib.pyplot as plt\n",
    "import math\n",
    "import statsmodels.api as sm"
   ]
  },
  {
   "cell_type": "code",
   "execution_count": 2,
   "metadata": {},
   "outputs": [],
   "source": [
    "file = pd.read_csv('BANKNIFTY20JUNFUT.txt', sep=\",\", header=None)"
   ]
  },
  {
   "cell_type": "code",
   "execution_count": 9,
   "metadata": {},
   "outputs": [
    {
     "data": {
      "text/html": [
       "<div>\n",
       "<style scoped>\n",
       "    .dataframe tbody tr th:only-of-type {\n",
       "        vertical-align: middle;\n",
       "    }\n",
       "\n",
       "    .dataframe tbody tr th {\n",
       "        vertical-align: top;\n",
       "    }\n",
       "\n",
       "    .dataframe thead th {\n",
       "        text-align: right;\n",
       "    }\n",
       "</style>\n",
       "<table border=\"1\" class=\"dataframe\">\n",
       "  <thead>\n",
       "    <tr style=\"text-align: right;\">\n",
       "      <th></th>\n",
       "      <th>Time</th>\n",
       "      <th>Price</th>\n",
       "    </tr>\n",
       "  </thead>\n",
       "  <tbody>\n",
       "    <tr>\n",
       "      <td>0</td>\n",
       "      <td>09:15:00</td>\n",
       "      <td>19995.4</td>\n",
       "    </tr>\n",
       "    <tr>\n",
       "      <td>1</td>\n",
       "      <td>09:15:01</td>\n",
       "      <td>20000.0</td>\n",
       "    </tr>\n",
       "    <tr>\n",
       "      <td>2</td>\n",
       "      <td>09:15:02</td>\n",
       "      <td>20000.0</td>\n",
       "    </tr>\n",
       "    <tr>\n",
       "      <td>3</td>\n",
       "      <td>09:15:03</td>\n",
       "      <td>20005.0</td>\n",
       "    </tr>\n",
       "    <tr>\n",
       "      <td>4</td>\n",
       "      <td>09:15:04</td>\n",
       "      <td>20004.8</td>\n",
       "    </tr>\n",
       "    <tr>\n",
       "      <td>...</td>\n",
       "      <td>...</td>\n",
       "      <td>...</td>\n",
       "    </tr>\n",
       "    <tr>\n",
       "      <td>22496</td>\n",
       "      <td>15:29:56</td>\n",
       "      <td>20140.0</td>\n",
       "    </tr>\n",
       "    <tr>\n",
       "      <td>22497</td>\n",
       "      <td>15:29:57</td>\n",
       "      <td>20140.0</td>\n",
       "    </tr>\n",
       "    <tr>\n",
       "      <td>22498</td>\n",
       "      <td>15:29:58</td>\n",
       "      <td>20140.0</td>\n",
       "    </tr>\n",
       "    <tr>\n",
       "      <td>22499</td>\n",
       "      <td>15:29:59</td>\n",
       "      <td>20140.0</td>\n",
       "    </tr>\n",
       "    <tr>\n",
       "      <td>22500</td>\n",
       "      <td>15:30:00</td>\n",
       "      <td>20140.0</td>\n",
       "    </tr>\n",
       "  </tbody>\n",
       "</table>\n",
       "<p>22501 rows × 2 columns</p>\n",
       "</div>"
      ],
      "text/plain": [
       "           Time    Price\n",
       "0      09:15:00  19995.4\n",
       "1      09:15:01  20000.0\n",
       "2      09:15:02  20000.0\n",
       "3      09:15:03  20005.0\n",
       "4      09:15:04  20004.8\n",
       "...         ...      ...\n",
       "22496  15:29:56  20140.0\n",
       "22497  15:29:57  20140.0\n",
       "22498  15:29:58  20140.0\n",
       "22499  15:29:59  20140.0\n",
       "22500  15:30:00  20140.0\n",
       "\n",
       "[22501 rows x 2 columns]"
      ]
     },
     "execution_count": 9,
     "metadata": {},
     "output_type": "execute_result"
    }
   ],
   "source": [
    "data=file.drop([0,1,4], axis=1)\n",
    "data.columns=['Time','Price']\n",
    "data"
   ]
  },
  {
   "cell_type": "code",
   "execution_count": 15,
   "metadata": {},
   "outputs": [],
   "source": [
    "def slope(ser,n):\n",
    "    slopes = [i*0 for i in range(n-1)]\n",
    "    for i in range(n,len(ser)+1):\n",
    "        y = ser[i-n:i]\n",
    "        x = np.array(range(n))\n",
    "        y_scaled = (y - y.min())/(y.max() - y.min())\n",
    "        x_scaled = (x - x.min())/(x.max() - x.min()) \n",
    "        x_scaled = sm.add_constant(x_scaled)\n",
    "        model = sm.OLS(y_scaled,x_scaled)\n",
    "        results = model.fit()\n",
    "        slopes.append(results.params[-1])\n",
    "    slope_angle = (np.rad2deg(np.arctan(np.array(slopes))))\n",
    "    return np.array(slope_angle)"
   ]
  },
  {
   "cell_type": "code",
   "execution_count": 16,
   "metadata": {},
   "outputs": [],
   "source": [
    "def Dual_Moving_Crossover(DF, short_window, long_window):\n",
    "    df=DF.copy()\n",
    "    df['short_mavg'] = slope(df['Price'],short_window)\n",
    "    df['long_mavg'] = slope(df['Price'],long_window)\n",
    "    df.dropna(inplace=True)\n",
    "    return df"
   ]
  },
  {
   "cell_type": "code",
   "execution_count": 30,
   "metadata": {},
   "outputs": [
    {
     "name": "stdout",
     "output_type": "stream",
     "text": [
      "           Time    Price  short_mavg  long_mavg  signal  positions\n",
      "1      09:15:01  20000.0    0.000000   0.000000     0.0        0.0\n",
      "2      09:15:02  20000.0    0.000000   0.000000     0.0        0.0\n",
      "3      09:15:03  20005.0    0.000000   0.000000     0.0        0.0\n",
      "4      09:15:04  20004.8    0.000000   0.000000     0.0        0.0\n",
      "5      09:15:05  20017.0    0.000000   0.000000     0.0        0.0\n",
      "...         ...      ...         ...        ...     ...        ...\n",
      "22394  15:28:14  20140.0   26.139508   5.445017     1.0        0.0\n",
      "22395  15:28:15  20140.0   24.960453   6.471175     1.0        0.0\n",
      "22396  15:28:16  20140.0   16.942040   4.213047     1.0        0.0\n",
      "22397  15:28:17  20140.0    7.036580   5.330998     1.0        0.0\n",
      "22398  15:28:18  20140.0  -15.185837   6.431548     0.0       -1.0\n",
      "\n",
      "[22398 rows x 6 columns]\n"
     ]
    },
    {
     "name": "stderr",
     "output_type": "stream",
     "text": [
      "C:\\Users\\chashah4\\AppData\\Local\\Continuum\\anaconda3\\lib\\site-packages\\ipykernel_launcher.py:6: SettingWithCopyWarning: \n",
      "A value is trying to be set on a copy of a slice from a DataFrame\n",
      "\n",
      "See the caveats in the documentation: http://pandas.pydata.org/pandas-docs/stable/user_guide/indexing.html#returning-a-view-versus-a-copy\n",
      "  \n"
     ]
    }
   ],
   "source": [
    "short_window=20\n",
    "long_window=60\n",
    "DMC_signals = pd.DataFrame()\n",
    "DMC_signals=(Dual_Moving_Crossover(data,short_window,long_window))\n",
    "DMC_signals['signal']= 0.0\n",
    "DMC_signals['signal'][short_window:] = np.where(DMC_signals['short_mavg'][short_window:]>DMC_signals['long_mavg'][short_window:], 1.0, 0.0)   \n",
    "DMC_signals['positions'] = DMC_signals['signal'].diff()\n",
    "DMC_signals.dropna(inplace=True)\n",
    "print(DMC_signals)"
   ]
  },
  {
   "cell_type": "code",
   "execution_count": 31,
   "metadata": {},
   "outputs": [
    {
     "data": {
      "image/png": "[encoded data removed]",
      "text/plain": [
       "<Figure size 432x288 with 1 Axes>"
      ]
     },
     "metadata": {
      "needs_background": "light"
     },
     "output_type": "display_data"
    }
   ],
   "source": [
    "initial_capital= float(100000.0)\n",
    "positions = pd.DataFrame(index=DMC_signals.index).fillna(0.0)\n",
    "# Buy a 120 shares\n",
    "positions['Share'] = 100*DMC_signals['signal']\n",
    "portfolio = positions.multiply(DMC_signals['Price'], axis=0)\n",
    "pos_diff = positions.diff()\n",
    "portfolio['holdings'] = (positions.multiply(DMC_signals['Price'], axis=0)).sum(axis=1)\n",
    "portfolio['cash'] = initial_capital - (pos_diff.multiply(DMC_signals['Price'], axis=0)).sum(axis=1).cumsum()   \n",
    "portfolio['total'] = portfolio['cash'] + portfolio['holdings']\n",
    "portfolio['returns'] = portfolio['total'].pct_change()\n",
    "portfolio.dropna(inplace=True)\n",
    "portfolio.describe()\n",
    "fig = plt.figure()\n",
    "ax1 = fig.add_subplot(111, ylabel='Portfolio value in $')\n",
    "portfolio['total'].plot(ax=ax1, lw=2.)\n",
    "plt.show()"
   ]
  },
  {
   "cell_type": "markdown",
   "metadata": {},
   "source": [
    "I tried various time durations like (5,30),(5,20),(20,60) and (10,60). <b>(20,60)</b> produced the best result. Although the other durations produce highly negative results as well where the portfolio value went down to almost the negative of the initial capital. Because of this we cannot generalise this\\ strategy."
   ]
  },
  {
   "cell_type": "code",
   "execution_count": null,
   "metadata": {},
   "outputs": [],
   "source": []
  }
 ],
 "metadata": {
  "kernelspec": {
   "display_name": "Python 3",
   "language": "python",
   "name": "python3"
  },
  "language_info": {
   "codemirror_mode": {
    "name": "ipython",
    "version": 3
   },
   "file_extension": ".py",
   "mimetype": "text/x-python",
   "name": "python",
   "nbconvert_exporter": "python",
   "pygments_lexer": "ipython3",
   "version": "3.8.8"
  }
 },
 "nbformat": 4,
 "nbformat_minor": 2
}
